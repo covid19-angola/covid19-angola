{
 "cells": [
  {
   "cell_type": "markdown",
   "metadata": {},
   "source": [
    "## Generate covid19 data from Google SpreadSheet\n"
   ]
  },
  {
   "cell_type": "code",
   "execution_count": 36,
   "metadata": {},
   "outputs": [],
   "source": [
    "import pandas as pd\n",
    "import os\n",
    "from datetime import datetime\n",
    "\n",
    "pd.precision = 5\n",
    "INPUT_PATH = 'input'\n",
    "OUTPUT_PATH = 'dataset'\n",
    "\n",
    "#POPULATION_CSV_PATH = os.path.join(INPUT_PATH, 'un', 'population_2020.csv')\n",
    "CSV_PATH = os.path.join(INPUT_PATH,'angola.csv')\n",
    "\n",
    "\n",
    "ANGOLA_POPULATION = 32866268"
   ]
  },
  {
   "cell_type": "code",
   "execution_count": 37,
   "metadata": {},
   "outputs": [],
   "source": [
    "!mkdir -p $OUTPUT_PATH"
   ]
  },
  {
   "cell_type": "code",
   "execution_count": 38,
   "metadata": {},
   "outputs": [
    {
     "name": "stdout",
     "output_type": "stream",
     "text": [
      "  % Total    % Received % Xferd  Average Speed   Time    Time     Time  Current\n",
      "                                 Dload  Upload   Total   Spent    Left  Speed\n",
      "100  2078    0  2078    0     0   2122      0 --:--:-- --:--:-- --:--:--  2120\n"
     ]
    }
   ],
   "source": [
    "!curl -Lo $INPUT_PATH/angola.csv 'https://docs.google.com/spreadsheets/d/e/2PACX-1vTyuD092U1peHEGTL4y3QW5dw5sy3t3sxvraveh7sr0HbhG-yqGDD8mEabQmSRW0nNFSI-HqvN4Ij5i/pub?gid=1952696069&single=true&output=csv'\n",
    "\n"
   ]
  },
  {
   "cell_type": "code",
   "execution_count": 39,
   "metadata": {},
   "outputs": [],
   "source": [
    "data = pd.read_csv(CSV_PATH)"
   ]
  },
  {
   "cell_type": "code",
   "execution_count": 40,
   "metadata": {},
   "outputs": [
    {
     "data": {
      "text/html": [
       "<div>\n",
       "<style scoped>\n",
       "    .dataframe tbody tr th:only-of-type {\n",
       "        vertical-align: middle;\n",
       "    }\n",
       "\n",
       "    .dataframe tbody tr th {\n",
       "        vertical-align: top;\n",
       "    }\n",
       "\n",
       "    .dataframe thead th {\n",
       "        text-align: right;\n",
       "    }\n",
       "</style>\n",
       "<table border=\"1\" class=\"dataframe\">\n",
       "  <thead>\n",
       "    <tr style=\"text-align: right;\">\n",
       "      <th></th>\n",
       "      <th>data</th>\n",
       "      <th>activos</th>\n",
       "      <th>novos_casos</th>\n",
       "      <th>novos_recuperados</th>\n",
       "      <th>novas_mortes</th>\n",
       "      <th>total_de_casos</th>\n",
       "    </tr>\n",
       "  </thead>\n",
       "  <tbody>\n",
       "    <tr>\n",
       "      <th>54</th>\n",
       "      <td>2020-05-14</td>\n",
       "      <td>32</td>\n",
       "      <td>3</td>\n",
       "      <td>0</td>\n",
       "      <td>0</td>\n",
       "      <td>48</td>\n",
       "    </tr>\n",
       "    <tr>\n",
       "      <th>55</th>\n",
       "      <td>2020-05-15</td>\n",
       "      <td>29</td>\n",
       "      <td>0</td>\n",
       "      <td>3</td>\n",
       "      <td>0</td>\n",
       "      <td>48</td>\n",
       "    </tr>\n",
       "    <tr>\n",
       "      <th>56</th>\n",
       "      <td>2020-05-16</td>\n",
       "      <td>29</td>\n",
       "      <td>0</td>\n",
       "      <td>0</td>\n",
       "      <td>0</td>\n",
       "      <td>48</td>\n",
       "    </tr>\n",
       "    <tr>\n",
       "      <th>57</th>\n",
       "      <td>2020-05-17</td>\n",
       "      <td>29</td>\n",
       "      <td>0</td>\n",
       "      <td>0</td>\n",
       "      <td>0</td>\n",
       "      <td>48</td>\n",
       "    </tr>\n",
       "    <tr>\n",
       "      <th>58</th>\n",
       "      <td>2020-05-18</td>\n",
       "      <td>30</td>\n",
       "      <td>2</td>\n",
       "      <td>0</td>\n",
       "      <td>1</td>\n",
       "      <td>50</td>\n",
       "    </tr>\n",
       "  </tbody>\n",
       "</table>\n",
       "</div>"
      ],
      "text/plain": [
       "          data  activos  novos_casos  novos_recuperados  novas_mortes  \\\n",
       "54  2020-05-14       32            3                  0             0   \n",
       "55  2020-05-15       29            0                  3             0   \n",
       "56  2020-05-16       29            0                  0             0   \n",
       "57  2020-05-17       29            0                  0             0   \n",
       "58  2020-05-18       30            2                  0             1   \n",
       "\n",
       "    total_de_casos  \n",
       "54              48  \n",
       "55              48  \n",
       "56              48  \n",
       "57              48  \n",
       "58              50  "
      ]
     },
     "execution_count": 40,
     "metadata": {},
     "output_type": "execute_result"
    }
   ],
   "source": [
    "data.drop(['Sintomas Leves','UTI','Acompanhamento Domiciliar', 'Total Hospitalizado'], axis=1, inplace=True)\n",
    "data.rename(columns={\n",
    "    'date':'data',\n",
    "    'Total Activos': 'activos',\n",
    "    'Novos Casos': 'novos_casos',\n",
    "    'Total Cumulativo': 'total_de_casos',\n",
    "    'Mortos':'novas_mortes',\n",
    "    'Recuperados':'novos_recuperados'\n",
    "}, inplace=True)\n",
    "data.tail()"
   ]
  },
  {
   "cell_type": "code",
   "execution_count": 41,
   "metadata": {},
   "outputs": [],
   "source": [
    "data['total_deaths']=data['novas_mortes'].cumsum()\n",
    "data['total_recovered']=data['novos_recuperados'].cumsum().astype('Int64')\n"
   ]
  },
  {
   "cell_type": "markdown",
   "metadata": {},
   "source": [
    "#### Calculate per population"
   ]
  },
  {
   "cell_type": "code",
   "execution_count": 42,
   "metadata": {},
   "outputs": [],
   "source": [
    "data['total_cases_per_capita'] = data['total_de_casos'] / (ANGOLA_POPULATION / 1e5)\n",
    "data['total_deaths_per_capita'] = data['total_deaths'] / (ANGOLA_POPULATION / 1e5)\n",
    "data['new_cases_per_capita'] = data['novos_casos'] / (ANGOLA_POPULATION / 1e5)\n",
    "data['new_deaths_per_capita'] = data['novas_mortes'] / (ANGOLA_POPULATION / 1e5)"
   ]
  },
  {
   "cell_type": "markdown",
   "metadata": {},
   "source": [
    "#### Grapher data"
   ]
  },
  {
   "cell_type": "code",
   "execution_count": 43,
   "metadata": {},
   "outputs": [],
   "source": [
    "df_grapher = data.copy()\n",
    "df_grapher['days'] = pd.to_datetime(df_grapher['data']).map(lambda date: (date - datetime(2020, 3, 21)).days) #Day since first reported case\n",
    "\n",
    "df_grapher = df_grapher[[\n",
    "    'data','days',\n",
    "    'novos_casos','novas_mortes',\n",
    "    'novos_recuperados','total_de_casos',\n",
    "    'total_deaths','total_recovered',\n",
    "    'new_cases_per_capita','new_deaths_per_capita',\n",
    "    'total_cases_per_capita','total_deaths_per_capita'\n",
    "    ]].rename(columns={\n",
    "        'data': 'Date',\n",
    "        'days':'Days Since First Case',\n",
    "        'novos_casos': 'New Confirmed Cases',\n",
    "        'total_de_casos':'Total Confirmed Cases',\n",
    "        'novos_recuperados': 'Recovered Cases',\n",
    "        'total_recovered': 'Total Recovered Cases',\n",
    "        'novas_mortes':'New Deaths',\n",
    "        'total_deaths': 'Total Confirmed Deaths',\n",
    "        'new_cases_per_capita':'New Confirmed Cases per 100.000 people',\n",
    "        'total_cases_per_capita': 'Total Confirmed Cases per 100.000 people',\n",
    "        'new_deaths_per_capita': 'New Confirmed Deaths per 100.000 people',\n",
    "        'total_deaths_per_capita': 'Total Confirmed Deaths per 100.000 people'\n",
    "\n",
    "    })\n",
    "\n"
   ]
  },
  {
   "cell_type": "markdown",
   "metadata": {},
   "source": [
    "## Write output files"
   ]
  },
  {
   "cell_type": "code",
   "execution_count": 44,
   "metadata": {},
   "outputs": [
    {
     "data": {
      "text/plain": [
       "Index(['data', 'activos', 'novos_casos', 'novos_recuperados', 'novas_mortes',\n",
       "       'total_de_casos', 'total_deaths', 'total_recovered',\n",
       "       'total_cases_per_capita', 'total_deaths_per_capita',\n",
       "       'new_cases_per_capita', 'new_deaths_per_capita'],\n",
       "      dtype='object')"
      ]
     },
     "execution_count": 44,
     "metadata": {},
     "output_type": "execute_result"
    }
   ],
   "source": [
    "data.columns"
   ]
  },
  {
   "cell_type": "code",
   "execution_count": 45,
   "metadata": {},
   "outputs": [],
   "source": [
    "summary_data = data[[\n",
    "    'data',\n",
    "    'novos_casos', 'total_de_casos', \n",
    "    'novas_mortes', 'total_deaths',\n",
    "    'novos_recuperados','total_recovered'\n",
    "    ]].rename(columns={\n",
    "        'data': 'Data',\n",
    "        'novos_casos':'Novos Casos',\n",
    "        'total_de_casos':'Total de Casos', \n",
    "        'novas_mortes':'Novos Óbitos',\n",
    "        'total_deaths':'Total de Óbitos',\n",
    "        'novos_recuperados':'Novos Recuperados',\n",
    "        'total_recovered':'Total de Recuperados'\n",
    "    })\n",
    "\n",
    "summary_data.to_csv(os.path.join(OUTPUT_PATH, 'summary.csv'), index=False)\n",
    "summary_data.to_json(os.path.join(OUTPUT_PATH, 'summary.json'), orient='records')\n"
   ]
  },
  {
   "cell_type": "code",
   "execution_count": 46,
   "metadata": {},
   "outputs": [],
   "source": [
    "tdate = datetime.today()\n",
    "today = tdate.strftime('%Y-%m-%d')\n"
   ]
  },
  {
   "cell_type": "code",
   "execution_count": 47,
   "metadata": {},
   "outputs": [],
   "source": [
    "filename = datetime.today().strftime('%Y%m%d')\n",
    "today_file = summary_data.iloc[-1:]\n",
    "\n",
    "\n",
    "today_file=today_file.assign(UltimaActualizacao={tdate.strftime('%Y-%m-%d %H:%M:%S')})\n",
    "\n",
    "today_file.to_csv(os.path.join(OUTPUT_PATH, '%s_summary.csv' % filename), index=False)\n",
    "today_file.to_json(os.path.join(OUTPUT_PATH, '%s.json' % filename), orient='records')\n",
    "\n",
    "today_file.to_csv(os.path.join(OUTPUT_PATH, 'latest.csv'), index=False)\n",
    "today_file.to_json(os.path.join(OUTPUT_PATH, 'latest.json'), orient='records')"
   ]
  },
  {
   "cell_type": "code",
   "execution_count": 48,
   "metadata": {},
   "outputs": [],
   "source": [
    "# %summary_data.loc[summary_data['date'] =='2020-04-22']"
   ]
  },
  {
   "cell_type": "code",
   "execution_count": 49,
   "metadata": {},
   "outputs": [],
   "source": [
    "df_grapher.to_csv(os.path.join(OUTPUT_PATH, 'grapher.csv'), index=False)\n"
   ]
  },
  {
   "cell_type": "code",
   "execution_count": 50,
   "metadata": {},
   "outputs": [],
   "source": [
    "# Just the first time\n",
    "\n",
    "def create_single_days(df, today):\n",
    "    i = pd.date_range('2020-03-21', today)\n",
    "    for x in i:\n",
    "        dt = x.strftime('%Y-%m-%d')\n",
    "        date_file = df.loc[df['Data'] ==dt]\n",
    "        date_file.to_csv(os.path.join(OUTPUT_PATH, '%s_summary.csv' % x.strftime('%Y%m%d')), index=False)"
   ]
  },
  {
   "cell_type": "code",
   "execution_count": 51,
   "metadata": {},
   "outputs": [],
   "source": [
    "create_single_days(summary_data, today)"
   ]
  },
  {
   "cell_type": "code",
   "execution_count": null,
   "metadata": {},
   "outputs": [],
   "source": []
  },
  {
   "cell_type": "markdown",
   "metadata": {},
   "source": []
  },
  {
   "cell_type": "code",
   "execution_count": null,
   "metadata": {},
   "outputs": [],
   "source": []
  }
 ],
 "metadata": {
  "kernelspec": {
   "display_name": "Python 3",
   "language": "python",
   "name": "python3"
  },
  "language_info": {
   "codemirror_mode": {
    "name": "ipython",
    "version": 3
   },
   "file_extension": ".py",
   "mimetype": "text/x-python",
   "name": "python",
   "nbconvert_exporter": "python",
   "pygments_lexer": "ipython3",
   "version": "3.7.6"
  }
 },
 "nbformat": 4,
 "nbformat_minor": 4
}
